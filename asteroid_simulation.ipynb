import math
import numpy as np
import plotly.graph_objects as go
import plotly.io as pio
import time

# Use browser renderer for Plotly (can switch to 'notebook' if needed)
pio.renderers.default = 'browser'

# --- Asteroid class ---
class Asteroid:
    def __init__(self, asteroid_id, x, y, radius, vx, vy):
        self.id = asteroid_id
        self.x = x
        self.y = y
        self.radius = radius
        self.vx = vx
        self.vy = vy

# --- Input parser ---
def parse_input(file_name):
    asteroids = []
    auto_id = 1  # fallback ID if not provided
    with open(file_name, "r") as f:
        for line_num, line in enumerate(f, 1):
            parts = line.strip().split()
            if not parts:
                continue  # skip empty lines
            try:
                if len(parts) == 6:
                    asteroid_id, x, y, radius, vx, vy = map(float, parts)
                    asteroid_id = int(asteroid_id)
                elif len(parts) == 5:
                    x, y, radius, vx, vy = map(float, parts)
                    asteroid_id = auto_id
                    auto_id += 1
                else:
                    print(f"Warning: Line {line_num} malformed. Skipping.")
                    continue
                asteroids.append(Asteroid(asteroid_id, x, y, radius, vx, vy))
            except ValueError:
                print(f"Warning: Line {line_num} contains non-numeric values. Skipping.")
    if not asteroids:
        raise ValueError("No valid asteroid data found.")
    return asteroids

# --- Main simulation logic ---
def animate_simulation_3d(asteroids, dt, max_time):
    # Reroute logic kicks in after this time
    reroute_start_time = 3.0
    curve_amplitude = 2.0
    curve_frequency = 0.5

    t_values = np.arange(0, max_time + dt, dt)
    trajectory_data = {a.id: {'x': [], 'y': []} for a in asteroids}

    # Precompute asteroid trajectories
    for t in t_values:
        for a in asteroids:
            trajectory_data[a.id]['x'].append(a.x + a.vx * t)
            trajectory_data[a.id]['y'].append(a.y + a.vy * t)

    # Target asteroid (hardcoded for now)
    target = next((a for a in asteroids if a.id == 46), None)
    if not target:
        raise ValueError("Asteroid 46 not found.")

    # Rocket setup
    rocket_pos = np.array([0.0, 0.0])
    rocket_path_x, rocket_path_y = [], []
    rocket_velocity = np.array([0.0, 0.0])
    rocket_acceleration = 0.05
    fuel = 5.0
    collided = False

    frames = []

    for i, t in enumerate(t_values):
        target_pos = np.array([target.x + target.vx * t, target.y + target.vy * t])
        direction = target_pos - rocket_pos
        distance = np.linalg.norm(direction)

        # Collision check
        if not collided and distance < target.radius + 0.5:
            collided = True
            print(f"Collision detected with asteroid 46 at time {t:.2f} seconds")

        # Rocket movement logic
        if not collided:
            if t >= reroute_start_time:
                # Reroute: sinusoidal curve
                rocket_velocity = np.array([0.1, curve_amplitude * math.sin(curve_frequency * t)])
            else:
                if distance > 0:
                    direction /= distance
                if fuel > 0:
                    rocket_velocity += direction * rocket_acceleration
                    fuel -= dt
            rocket_pos += rocket_velocity

        rocket_path_x.append(rocket_pos[0])
        rocket_path_y.append(rocket_pos[1])

        # Frame data
        data = []

        for a in asteroids:
            # Asteroid trail
            data.append(go.Scatter3d(
                x=trajectory_data[a.id]['x'][:i+1],
                y=trajectory_data[a.id]['y'][:i+1],
                z=[0]*(i+1),
                mode='lines+markers',
                marker=dict(size=6),
                name=f'Asteroid {a.id}'
            ))

            # Velocity vector
            data.append(go.Scatter3d(
                x=[a.x + a.vx * t, a.x + a.vx * t + a.vx],
                y=[a.y + a.vy * t, a.y + a.vy * t + a.vy],
                z=[0, 0],
                mode='lines',
                line=dict(color='red', width=2, dash='dot'),
                name=f'Velocity {a.id}',
                showlegend=(i == 0)
            ))

        # Rocket marker
        data.append(go.Scatter3d(
            x=[rocket_pos[0]], y=[rocket_pos[1]], z=[0],
            mode='markers',
            marker=dict(symbol='diamond', size=10, color='cyan'),
            name='Rocket'
        ))

        # Rocket path
        data.append(go.Scatter3d(
            x=rocket_path_x, y=rocket_path_y, z=[0]*len(rocket_path_x),
            mode='lines',
            line=dict(color='blue', width=2),
            name='Rocket Path'
        ))

        frames.append(go.Frame(data=data, name=str(round(t, 1))))

    # --- Initial frame setup ---
    init_data = []

    for a in asteroids:
        init_data.append(go.Scatter3d(
            x=[], y=[], z=[],
            mode='lines+markers',
            marker=dict(size=6),
            name=f'Asteroid {a.id}',
            visible=False
        ))

    init_data.append(go.Scatter3d(
        x=[rocket_path_x[0]], y=[rocket_path_y[0]], z=[0],
        mode='markers',
        marker=dict(symbol='diamond', size=10, color='cyan'),
        name='Rocket'
    ))

    init_data.append(go.Scatter3d(
        x=rocket_path_x, y=rocket_path_y, z=[0]*len(rocket_path_x),
        mode='lines',
        line=dict(color='blue', width=2),
        name='Rocket Path'
    ))

    # --- Plotly figure setup ---
    fig = go.Figure(
        data=init_data,
        layout=go.Layout(
            title="🚀 Orbit-IQ: Rocket Launch & Reroute",
            scene=dict(
                xaxis=dict(title="X", backgroundcolor="black", color="white", gridcolor="gray"),
                yaxis=dict(title="Y", backgroundcolor="black", color="white", gridcolor="gray"),
                zaxis=dict(title="Z", backgroundcolor="black", color="white", gridcolor="gray"),
                bgcolor="black"
            ),
            paper_bgcolor='black',
            plot_bgcolor='black',
            font=dict(color='white'),
            updatemenus=[dict(
                type="buttons",
                showactive=False,
                buttons=[dict(label="Play",
                              method="animate",
                              args=[None, {
                                  "frame": {"duration": 50, "redraw": True},
                                  "fromcurrent": True,
                                  "transition": {"duration": 0}
                              }])]
            )]
        ),
        frames=frames
    )

    fig.show()
    time.sleep(2)  # give browser time to load

# --- Entry point ---
def main():
    input_file = "asteroids.txt"
    time_step = 0.1
    max_time = 10.0

    try:
        asteroids = parse_input(input_file)
        print(f"Parsed {len(asteroids)} asteroids successfully.")
        animate_simulation_3d(asteroids, time_step, max_time)
    except Exception as e:
        print(f"Error during simulation: {e}")

if __name__ == "__main__":
    main()
