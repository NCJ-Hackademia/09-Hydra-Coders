import math
import numpy as np
import plotly.graph_objects as go
import plotly.io as pio
import time

# Render Plotly in browser for full cinematic impact
pio.renderers.default = 'browser'

# --- Asteroid Blueprint ---
class Asteroid:
    def __init__(self, asteroid_id, x, y, radius, vx, vy):
        self.id = asteroid_id
        self.x = x
        self.y = y
        self.radius = radius
        self.vx = vx
        self.vy = vy

# --- Input Parser with Fallback ID Logic ---
def load_asteroid_data(file_name):
    asteroid_field = []
    auto_id = 1
    with open(file_name, "r") as f:
        for line_num, line in enumerate(f, 1):
            tokens = line.strip().split()
            if not tokens:
                continue
            try:
                if len(tokens) == 6:
                    asteroid_id, x, y, radius, vx, vy = map(float, tokens)
                    asteroid_id = int(asteroid_id)
                elif len(tokens) == 5:
                    x, y, radius, vx, vy = map(float, tokens)
                    asteroid_id = auto_id
                    auto_id += 1
                else:
                    print(f"[Line {line_num}] Malformed input. Skipping.")
                    continue
                asteroid_field.append(Asteroid(asteroid_id, x, y, radius, vx, vy))
            except ValueError:
                print(f"[Line {line_num}] Non-numeric values detected. Skipping.")
    if not asteroid_field:
        raise ValueError("No valid asteroid data found.")
    return asteroid_field

# --- Mission Simulation ---
def simulate_orbit_iq_mission(asteroids, dt, max_time):
    REROUTE_TRIGGER_TIME = 3.0
    CURVE_AMPLITUDE = 2.0
    CURVE_FREQUENCY = 0.5

    t_series = np.arange(0, max_time + dt, dt)
    trails = {a.id: {'x': [], 'y': []} for a in asteroids}

    # Precompute asteroid motion
    for t in t_series:
        for a in asteroids:
            trails[a.id]['x'].append(a.x + a.vx * t)
            trails[a.id]['y'].append(a.y + a.vy * t)

    # Lock onto target asteroid
    target = next((a for a in asteroids if a.id == 46), None)
    if not target:
        raise ValueError("Asteroid 46 not found.")

    # Rocket initialization
    rocket_position = np.array([0.0, 0.0])
    rocket_path_x, rocket_path_y = [], []
    rocket_velocity = np.array([0.0, 0.0])
    THRUST = 0.05
    fuel = 5.0
    impact_occurred = False

    frames = []

    for i, t in enumerate(t_series):
        target_position = np.array([target.x + target.vx * t, target.y + target.vy * t])
        vector_to_target = target_position - rocket_position
        distance = np.linalg.norm(vector_to_target)

        # Collision detection
        if not impact_occurred and distance < target.radius + 0.5:
            impact_occurred = True
            print(f"[{t:.2f}s] 🚨 Collision with asteroid 46!")

        # Rocket guidance logic
        if not impact_occurred:
            if t >= REROUTE_TRIGGER_TIME:
                # Reroute: sinusoidal deviation
                rocket_velocity = np.array([0.1, CURVE_AMPLITUDE * math.sin(CURVE_FREQUENCY * t)])
            else:
                if distance > 0:
                    vector_to_target /= distance
                if fuel > 0:
                    rocket_velocity += vector_to_target * THRUST
                    fuel -= dt
            rocket_position += rocket_velocity

        rocket_path_x.append(rocket_position[0])
        rocket_path_y.append(rocket_position[1])

        # Frame construction
        frame_objects = []

        for a in asteroids:
            # Asteroid trail
            frame_objects.append(go.Scatter3d(
                x=trails[a.id]['x'][:i+1],
                y=trails[a.id]['y'][:i+1],
                z=[0]*(i+1),
                mode='lines+markers',
                marker=dict(size=6),
                name=f'Asteroid {a.id}'
            ))

            # Velocity vector
            frame_objects.append(go.Scatter3d(
                x=[a.x + a.vx * t, a.x + a.vx * t + a.vx],
                y=[a.y + a.vy * t, a.y + a.vy * t + a.vy],
                z=[0, 0],
                mode='lines',
                line=dict(color='red', width=2, dash='dot'),
                name=f'Velocity {a.id}',
                showlegend=(i == 0)
            ))

        # Rocket visuals
        frame_objects.append(go.Scatter3d(
            x=[rocket_position[0]], y=[rocket_position[1]], z=[0],
            mode='markers',
            marker=dict(symbol='diamond', size=10, color='cyan'),
            name='Rocket'
        ))

        frame_objects.append(go.Scatter3d(
            x=rocket_path_x, y=rocket_path_y, z=[0]*len(rocket_path_x),
            mode='lines',
            line=dict(color='blue', width=2),
            name='Rocket Path'
        ))

        frames.append(go.Frame(data=frame_objects, name=str(round(t, 1))))

    # --- Initial Frame Setup ---
    initial_objects = []

    for a in asteroids:
        initial_objects.append(go.Scatter3d(
            x=[], y=[], z=[],
            mode='lines+markers',
            marker=dict(size=6),
            name=f'Asteroid {a.id}',
            visible=False
        ))

    initial_objects.append(go.Scatter3d(
        x=[rocket_path_x[0]], y=[rocket_path_y[0]], z=[0],
        mode='markers',
        marker=dict(symbol='diamond', size=10, color='cyan'),
        name='Rocket'
    ))

    initial_objects.append(go.Scatter3d(
        x=rocket_path_x, y=rocket_path_y, z=[0]*len(rocket_path_x),
        mode='lines',
        line=dict(color='blue', width=2),
        name='Rocket Path'
    ))

    # --- Plotly Figure Setup ---
    fig = go.Figure(
        data=initial_objects,
        layout=go.Layout(
            title="🚀 Orbit-IQ: Rocket Launch & Reroute",
            scene=dict(
                xaxis=dict(title="X", backgroundcolor="black", color="white", gridcolor="gray"),
                yaxis=dict(title="Y", backgroundcolor="black", color="white", gridcolor="gray"),
                zaxis=dict(title="Z", backgroundcolor="black", color="white", gridcolor="gray"),
                bgcolor="black"
            ),
            paper_bgcolor='black',
            plot_bgcolor='black',
            font=dict(color='white'),
            updatemenus=[dict(
                type="buttons",
                showactive=False,
                buttons=[dict(label="Play",
                              method="animate",
                              args=[None, {
                                  "frame": {"duration": 50, "redraw": True},
                                  "fromcurrent": True,
                                  "transition": {"duration": 0}
                              }])]
            )]
        ),
        frames=frames
    )

    fig.show()
    time.sleep(2)  # Give browser time to load

# --- Entry Point ---
def main():
    INPUT_FILE = "asteroids.txt"
    TIME_STEP = 0.1
    MAX_DURATION = 10.0

    try:
        asteroid_field = load_asteroid_data(INPUT_FILE)
        print(f"✅ Loaded {len(asteroid_field)} asteroids.")
        simulate_orbit_iq_mission(asteroid_field, TIME_STEP, MAX_DURATION)
    except Exception as err:
        print(f"❌ Simulation error: {err}")

if __name__ == "__main__":
    main()
